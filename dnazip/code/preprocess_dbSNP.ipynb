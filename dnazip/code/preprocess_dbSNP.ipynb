{
 "cells": [
  {
   "cell_type": "code",
   "execution_count": 7,
   "id": "c8402561",
   "metadata": {},
   "outputs": [],
   "source": [
    "# Setting up environment\n",
    "import pandas as pd\n",
    "import numpy as np\n",
    "import matplotlib.pyplot as plt\n",
    "import os"
   ]
  },
  {
   "cell_type": "code",
   "execution_count": 8,
   "id": "b6e5c62a",
   "metadata": {},
   "outputs": [],
   "source": [
    "# Define file path to dbSNP database\n",
    "dbSNP_folder_path = \"/Users/arroyoruizj/Desktop/comps_f25_rgj/dnazip/dbSNP\"\n"
   ]
  },
  {
   "cell_type": "code",
   "execution_count": 9,
   "id": "ae19421d",
   "metadata": {},
   "outputs": [
    {
     "name": "stdout",
     "output_type": "stream",
     "text": [
      "chr9.txt has been converted to the proper format\n",
      "chrX.txt has been converted to the proper format\n",
      "chr20.txt has been converted to the proper format\n",
      "chr21.txt has been converted to the proper format\n",
      "chrY.txt has been converted to the proper format\n",
      "chr8.txt has been converted to the proper format\n",
      "chr22.txt has been converted to the proper format\n",
      "chr19.txt has been converted to the proper format\n",
      "chr18.txt has been converted to the proper format\n",
      "chr15.txt has been converted to the proper format\n",
      "chr1.txt has been converted to the proper format\n",
      "chr14.txt has been converted to the proper format\n",
      "chr16.txt has been converted to the proper format\n",
      "chr3.txt has been converted to the proper format\n",
      "chr2.txt has been converted to the proper format\n",
      "chr17.txt has been converted to the proper format\n",
      "chr13.txt has been converted to the proper format\n",
      "chr6.txt has been converted to the proper format\n",
      "chr7.txt has been converted to the proper format\n",
      "chr12.txt has been converted to the proper format\n",
      "chr10.txt has been converted to the proper format\n",
      "chr5.txt has been converted to the proper format\n",
      "chr4.txt has been converted to the proper format\n",
      "chr11.txt has been converted to the proper format\n"
     ]
    }
   ],
   "source": [
    "for file in os.listdir(dbSNP_folder_path):\n",
    "\n",
    "    #Only look at chromosomes\n",
    "    if (file.split(\".\")[-1] == \"txt\"):\n",
    "\n",
    "\n",
    "        path = f\"/Users/arroyoruizj/Desktop/comps_f25_rgj/dnazip/dbSNP/{file}\"\n",
    "\n",
    "        chr_vars = pd.read_csv(path,\n",
    "                               sep='\\t',\n",
    "                               names=['chrom',\n",
    "                                'chromStart',\n",
    "                                'chromEnd',\n",
    "                                'name',\n",
    "                                'ref',\n",
    "                                'altCount',\n",
    "                                'alts',\n",
    "                                'shiftBases',\n",
    "                                'freqSourceCount',\n",
    "                                'minorAlleleFreq',\n",
    "                                'majorAllele',\n",
    "                                'minorAllele',\n",
    "                                'maxFuncImpact',\n",
    "                                'varType',\n",
    "                                'ucscNotes',\n",
    "                                '_dataOffset',\n",
    "                                '_dataLen'\n",
    "                                ]\n",
    "                              )\n",
    "\n",
    "        snv_vars = chr_vars.where(chr_vars['varType'] == 'snv').dropna()\n",
    "        snv_common_vars = snv_vars[snv_vars['ucscNotes'].apply(lambda x: 'commonAll' in str(x).split(','))]\n",
    "        filterd_snv_cvars = snv_common_vars[['chrom', 'chromStart', 'ref', 'altCount', 'alts']]\n",
    "\n",
    "        # Given each alternative, make a new entry for it\n",
    "        filterd_snv_cvars = (filterd_snv_cvars\n",
    "                  .assign(alt=filterd_snv_cvars['alts'].str.split(','))\n",
    "                  .explode('alt')\n",
    "                  .reset_index(drop=True)\n",
    "                  ) \n",
    "        \n",
    "        # Formatting\n",
    "        filterd_snv_cvars['chromStart'] = filterd_snv_cvars['chromStart'].astype('Int64')\n",
    "        filterd_snv_cvars = filterd_snv_cvars.where(filterd_snv_cvars['alt'] != '').dropna()\n",
    "\n",
    "        filterd_snv_cvars['ref_alt'] = filterd_snv_cvars['ref'] + \"/\" + filterd_snv_cvars['alt']\n",
    "\n",
    "        # Rewrite pre-existing file\n",
    "        filterd_snv_cvars[['chrom', 'chromStart', 'ref_alt']].to_csv(path, \n",
    "                                                                      header=None,\n",
    "                                                                      index=False)\n",
    "        \n",
    "        print(f\"{file} has been converted to the proper format\")"
   ]
  }
 ],
 "metadata": {
  "kernelspec": {
   "display_name": "myvenv",
   "language": "python",
   "name": "myvenv"
  },
  "language_info": {
   "codemirror_mode": {
    "name": "ipython",
    "version": 3
   },
   "file_extension": ".py",
   "mimetype": "text/x-python",
   "name": "python",
   "nbconvert_exporter": "python",
   "pygments_lexer": "ipython3",
   "version": "3.9.13"
  }
 },
 "nbformat": 4,
 "nbformat_minor": 5
}
